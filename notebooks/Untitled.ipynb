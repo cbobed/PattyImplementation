{
 "cells": [
  {
   "cell_type": "code",
   "execution_count": 20,
   "metadata": {
    "ExecuteTime": {
     "end_time": "2022-08-02T15:07:17.920427Z",
     "start_time": "2022-08-02T15:07:17.914441Z"
    }
   },
   "outputs": [],
   "source": [
    "# This is a trick taught by Jesús to include the directory containing the source \n",
    "# within the notebook scope\n",
    "import sys\n",
    "sys.path.append('../')"
   ]
  },
  {
   "cell_type": "code",
   "execution_count": 21,
   "metadata": {
    "ExecuteTime": {
     "end_time": "2022-08-02T15:07:19.580590Z",
     "start_time": "2022-08-02T15:07:18.501292Z"
    }
   },
   "outputs": [],
   "source": [
    "import networkx as nx\n",
    "import spacy \n",
    "from spacy.lang.es.examples import sentences\n",
    "\n",
    "MODEL = 'es_core_news_sm'\n",
    "MODEL = 'es_core_news_lg'\n",
    "\n",
    "# MODEL = 'en_core_web_md'\n",
    "# MODEL = 'es_core_news_lg'\n",
    "\n",
    "# we centralize the extraction\n",
    "nlp = spacy.load(MODEL)\n",
    "ruler = nlp.add_pipe(\"entity_ruler\")\n",
    "patterns = [ {\"label\": \"DNI\", \"pattern\": [{\"TEXT\": {\"REGEX\": \".*?[0-9]{8}[A-Z]\"}}]},\n",
    "             {\"label\": \"NUM\", \"pattern\": [{\"IS_DIGIT\":True}]} ]\n",
    "ruler.add_patterns(patterns)\n",
    "\n",
    "def generate_textual_patterns_with_pos_tags(corpus, extend_children=False):\n",
    "    \"\"\"A method to generate textual patterns given the corpus.\n",
    "\n",
    "    Parameters\n",
    "    ----------\n",
    "    corpus : type List\n",
    "        List of sentences is passed.\n",
    "\n",
    "    Returns\n",
    "    -------\n",
    "    type List\n",
    "        List of textual patterns\n",
    "\n",
    "    \"\"\"\n",
    "\n",
    "    patterns_pos_tags = []\n",
    "    textual_patterns = []\n",
    "    for i, sentence in enumerate(corpus):\n",
    "        dep_parse = nlp(sentence)\n",
    "        # print (f'{i}::{sentence}')\n",
    "        # print (f'{i}:: Ents{dep_parse.ents}')\n",
    "        try:\n",
    "            if len(dep_parse.ents) == 2:\n",
    "                path = shortest_dependency_path(dep_parse, dep_parse[dep_parse.ents[0].start], dep_parse[dep_parse.ents[1].start])\n",
    "                # print(f'path: {path}')\n",
    "                # print(f'dep_parse[[0].start]: {dep_parse[dep_parse.ents[0].start]}')\n",
    "                # print(f'dep_parse[[1].start]: {dep_parse[dep_parse.ents[1].start]}')\n",
    "                if len(path) != 2:\n",
    "                    if (extend_children):\n",
    "                        path = add_children_deps(path, dep_parse)\n",
    "                    else:\n",
    "                        path = [int (x) for x in path]\n",
    "                    # print (f'path: {path}')\n",
    "                    ## we add the entity and its POS in parallel\n",
    "                    shortest_path = dep_parse.ents[0].label_+'_<'+str(dep_parse[dep_parse.ents[0].start:dep_parse.ents[0].end]) + '> '\n",
    "                    pos_tags = ['<'+dep_parse.ents[0].label_+'>']\n",
    "                    ## we add all the words in the middle in the same order\n",
    "                    shortest_path += ' '.join([dep_parse[j].text for j in path[1:-1]])\n",
    "                    for j in path[1:-1]:\n",
    "                        pos_tags.append(dep_parse[j].pos_)\n",
    "                    ## and now the last entity\n",
    "                    shortest_path += ' '+dep_parse.ents[1].label_+'_<'+str(dep_parse[dep_parse.ents[1].start:dep_parse.ents[1].end]) + '> '\n",
    "                    pos_tags.append('<'+dep_parse.ents[1].label_+'>')\n",
    "                    # TODO: update the way of extending with advmod (not yet)\n",
    "                    # textual_patterns.append(adv_mod_deps(shortest_path, dep_parse))\n",
    "                    textual_patterns.append(shortest_path)\n",
    "                    patterns_pos_tags.append(pos_tags)\n",
    "            elif len(dep_parse.ents)> 2:\n",
    "                pairs = it.combinations(dep_parse.ents, 2)\n",
    "                for pair in pairs:\n",
    "                    # print (f'pair: {pair}')\n",
    "                    # print(f'dep_parse[pair[0].start]: {dep_parse[pair[0].start]}')\n",
    "                    # print(f'dep_parse[pair[1].start]: {dep_parse[pair[1].start]}')\n",
    "                    path = shortest_dependency_path(dep_parse, dep_parse[pair[0].start], dep_parse[pair[1].start])\n",
    "                    if len(path) != 2:\n",
    "                        if (extend_children):\n",
    "                            path = add_children_deps(path, dep_parse)\n",
    "                        else:\n",
    "                            path = [int(x) for x in path]\n",
    "                        # print(f'path: {path}')\n",
    "                        shortest_path = pair[0].label_+'_<'+ str(dep_parse[pair[0].start:pair[0].end]) + '> '\n",
    "                        pos_tags = ['<' + pair[0].label_ + '>']\n",
    "                        shortest_path += ' '.join([dep_parse[j].text for j in path[1:-1]])\n",
    "                        for j in path[1:-1]:\n",
    "                            pos_tags.append(dep_parse[j].pos_)\n",
    "                        shortest_path += ' '+pair[1].label_+'_<'+str(dep_parse[pair[1].start:pair[1].end])+'> '\n",
    "                        pos_tags.append('<' + pair[1].label_ + '>')\n",
    "                        # TODO: update this\n",
    "                        # textual_patterns.append(adv_mod_deps(shortest_path, dep_parse))\n",
    "                        textual_patterns.append(shortest_path)\n",
    "                        patterns_pos_tags.append(pos_tags)\n",
    "        except Exception as e:\n",
    "            print (e)\n",
    "            pass\n",
    "    return textual_patterns, patterns_pos_tags\n",
    "\n",
    "def add_children_deps(path, dep_parse):\n",
    "    children_start = obtain_children(int(path[0]), dep_parse)\n",
    "    children_end = obtain_children(int(path[-1]), dep_parse)\n",
    "    added_children = [x for x in (children_start + children_end) if int(path[0]) <= int(x) and int(x) <= int(path[-1]) and not is_idx_part_of_entity(int(x), dep_parse)]\n",
    "    test = [int(x) for x in (path + added_children)]\n",
    "    if int(path[0]) < int(path[-1]):\n",
    "        return sorted([int(x) for x in test])\n",
    "    else:\n",
    "        return sorted([int(x) for x in test],reverse=True)\n",
    "\n",
    "def shortest_dependency_path(doc, e1=None, e2=None):\n",
    "    ## CB: This should also work for NERs, if the dep parsing is pointing at the\n",
    "    ## head of the entity,\n",
    "    ## However, the NE would not be added completely\n",
    "    edges = []\n",
    "    for token in doc:\n",
    "        for child in token.children:\n",
    "            edges.append(('{0}'.format(token.i),\n",
    "                          '{0}'.format(child.i)))\n",
    "            edges.append(('{0}'.format(child.i),\n",
    "                          '{0}'.format(token.i)))\n",
    "\n",
    "    graph = nx.Graph(edges)\n",
    "    shortest_path = []\n",
    "    try:\n",
    "        # print (f'looking shortest path from {e1.i} to {e2.i}')\n",
    "        shortest_path = nx.shortest_path(graph, source=str(e1.i), target=str(e2.i))\n",
    "    except nx.NetworkXNoPath:\n",
    "        print (f'problems with shortest_path - {str(e1.i)} {doc[e1.i]} - {str(e2.i)} {doc[e2.i]}')\n",
    "        print (graph)\n",
    "        shortest_path=[]\n",
    "    return shortest_path\n",
    "\n"
   ]
  },
  {
   "cell_type": "code",
   "execution_count": 22,
   "metadata": {
    "ExecuteTime": {
     "end_time": "2022-08-02T15:07:19.705390Z",
     "start_time": "2022-08-02T15:07:19.582656Z"
    }
   },
   "outputs": [
    {
     "name": "stdout",
     "output_type": "stream",
     "text": [
      "[WinError 126] No se puede encontrar el módulo especificado\n",
      "[WinError 126] No se puede encontrar el módulo especificado\n",
      "[WinError 126] No se puede encontrar el módulo especificado\n",
      "[WinError 126] No se puede encontrar el módulo especificado\n",
      "[]\n",
      "Done. \n"
     ]
    }
   ],
   "source": [
    "sents = []\n",
    "for s in sentences:\n",
    "    sents.append(s)\n",
    "\n",
    "textual_patterns, post = generate_textual_patterns_with_pos_tags(sents, True)\n",
    "print (textual_patterns)\n",
    "print (f'Done. ')"
   ]
  },
  {
   "cell_type": "code",
   "execution_count": null,
   "metadata": {},
   "outputs": [],
   "source": []
  }
 ],
 "metadata": {
  "kernelspec": {
   "display_name": "rdf2vecEnv",
   "language": "python",
   "name": "rdf2vecenv"
  },
  "language_info": {
   "codemirror_mode": {
    "name": "ipython",
    "version": 3
   },
   "file_extension": ".py",
   "mimetype": "text/x-python",
   "name": "python",
   "nbconvert_exporter": "python",
   "pygments_lexer": "ipython3",
   "version": "3.7.10"
  }
 },
 "nbformat": 4,
 "nbformat_minor": 2
}
